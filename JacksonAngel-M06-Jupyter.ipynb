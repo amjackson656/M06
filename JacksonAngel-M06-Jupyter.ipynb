{
 "cells": [
  {
   "cell_type": "code",
   "execution_count": 1,
   "id": "5afb2674",
   "metadata": {},
   "outputs": [],
   "source": [
    "import datetime\n",
    "\n",
    "today = datetime.date.today()\n",
    "\n",
    "with open(\"today.txt\", \"w\") as file:\n",
    "    file.write(str(today))\n"
   ]
  },
  {
   "cell_type": "code",
   "execution_count": 2,
   "id": "7ad0502c",
   "metadata": {},
   "outputs": [],
   "source": [
    "with open(\"today.txt\", \"r\") as file:\n",
    "    today_string = file.read()\n"
   ]
  },
  {
   "cell_type": "code",
   "execution_count": 3,
   "id": "02b20de1",
   "metadata": {},
   "outputs": [],
   "source": [
    "from datetime import datetime\n",
    "\n",
    "date_object = datetime.strptime(today_string, \"%Y-%m-%d\").date()\n"
   ]
  },
  {
   "cell_type": "code",
   "execution_count": 4,
   "id": "e0a1ae17",
   "metadata": {},
   "outputs": [],
   "source": [
    "birth_date = datetime.strptime('1989-09-18', \"%Y-%m-%d\").date() \n"
   ]
  },
  {
   "cell_type": "code",
   "execution_count": 5,
   "id": "507e1588",
   "metadata": {},
   "outputs": [
    {
     "name": "stdout",
     "output_type": "stream",
     "text": [
      "Monday\n"
     ]
    }
   ],
   "source": [
    "day_of_week = birth_date.strftime(\"%A\")\n",
    "print(day_of_week) \n"
   ]
  },
  {
   "cell_type": "code",
   "execution_count": 6,
   "id": "4328f747",
   "metadata": {},
   "outputs": [
    {
     "name": "stdout",
     "output_type": "stream",
     "text": [
      "2017-02-03\n"
     ]
    }
   ],
   "source": [
    "from datetime import timedelta\n",
    "\n",
    "ten_thousand_days_old = birth_date + timedelta(days=10000)\n",
    "print(ten_thousand_days_old)\n"
   ]
  },
  {
   "cell_type": "code",
   "execution_count": 7,
   "id": "f7fa0f9c",
   "metadata": {},
   "outputs": [
    {
     "name": "stdout",
     "output_type": "stream",
     "text": [
      "I was just curious about the birthdate and the questions after!\n"
     ]
    }
   ],
   "source": [
    "print(\"I was just curious about the birthdate and the questions after!\")"
   ]
  },
  {
   "cell_type": "code",
   "execution_count": 9,
   "id": "de2a4f06",
   "metadata": {},
   "outputs": [
    {
     "name": "stdout",
     "output_type": "stream",
     "text": [
      "Requirement already satisfied: pytz in /Users/msjackson/anaconda3/lib/python3.10/site-packages (2022.7)\r\n"
     ]
    }
   ],
   "source": [
    "!pip install pytz"
   ]
  },
  {
   "cell_type": "code",
   "execution_count": null,
   "id": "6b4e5e1a",
   "metadata": {},
   "outputs": [
    {
     "name": "stderr",
     "output_type": "stream",
     "text": [
      "Process SpawnPoolWorker-7:\n",
      "Traceback (most recent call last):\n",
      "  File \"/Users/msjackson/anaconda3/lib/python3.10/multiprocessing/process.py\", line 314, in _bootstrap\n",
      "    self.run()\n",
      "  File \"/Users/msjackson/anaconda3/lib/python3.10/multiprocessing/process.py\", line 108, in run\n",
      "    self._target(*self._args, **self._kwargs)\n",
      "  File \"/Users/msjackson/anaconda3/lib/python3.10/multiprocessing/pool.py\", line 114, in worker\n",
      "    task = get()\n",
      "  File \"/Users/msjackson/anaconda3/lib/python3.10/multiprocessing/queues.py\", line 367, in get\n",
      "    return _ForkingPickler.loads(res)\n",
      "AttributeError: Can't get attribute 'print_time_and_exit' on <module '__main__' (built-in)>\n",
      "Process SpawnPoolWorker-8:\n",
      "Traceback (most recent call last):\n",
      "  File \"/Users/msjackson/anaconda3/lib/python3.10/multiprocessing/process.py\", line 314, in _bootstrap\n",
      "    self.run()\n",
      "  File \"/Users/msjackson/anaconda3/lib/python3.10/multiprocessing/process.py\", line 108, in run\n",
      "    self._target(*self._args, **self._kwargs)\n",
      "  File \"/Users/msjackson/anaconda3/lib/python3.10/multiprocessing/pool.py\", line 114, in worker\n",
      "    task = get()\n",
      "  File \"/Users/msjackson/anaconda3/lib/python3.10/multiprocessing/queues.py\", line 367, in get\n",
      "    return _ForkingPickler.loads(res)\n",
      "AttributeError: Can't get attribute 'print_time_and_exit' on <module '__main__' (built-in)>\n",
      "Process SpawnPoolWorker-9:\n",
      "Traceback (most recent call last):\n",
      "  File \"/Users/msjackson/anaconda3/lib/python3.10/multiprocessing/process.py\", line 314, in _bootstrap\n",
      "    self.run()\n",
      "  File \"/Users/msjackson/anaconda3/lib/python3.10/multiprocessing/process.py\", line 108, in run\n",
      "    self._target(*self._args, **self._kwargs)\n",
      "  File \"/Users/msjackson/anaconda3/lib/python3.10/multiprocessing/pool.py\", line 114, in worker\n",
      "    task = get()\n",
      "  File \"/Users/msjackson/anaconda3/lib/python3.10/multiprocessing/queues.py\", line 367, in get\n",
      "    return _ForkingPickler.loads(res)\n",
      "AttributeError: Can't get attribute 'print_time_and_exit' on <module '__main__' (built-in)>\n"
     ]
    }
   ],
   "source": [
    "import random\n",
    "import time\n",
    "from datetime import datetime\n",
    "import pytz\n",
    "from multiprocessing import Pool\n",
    "\n",
    "# Define function to be mapped\n",
    "def print_time_and_exit(x):\n",
    "    # Define US Eastern Timezone\n",
    "    eastern = pytz.timezone('US/Eastern')\n",
    "\n",
    "    # Get random sleep time\n",
    "    wait_time = random.random()\n",
    "\n",
    "    # Sleep for the random time\n",
    "    time.sleep(wait_time)\n",
    "\n",
    "    # Print current time in Eastern Timezone\n",
    "    eastern_time = datetime.now(eastern)\n",
    "    return \"Current Time: \" + str(eastern_time)\n",
    "\n",
    "# Create a pool of workers\n",
    "with Pool(3) as p:\n",
    "    print(p.map(print_time_and_exit, range(3)))\n"
   ]
  },
  {
   "cell_type": "code",
   "execution_count": null,
   "id": "5fd49011",
   "metadata": {},
   "outputs": [],
   "source": [
    "#I am getting an error importing pytz. I tried pool as well to no luck. I also tried it in VS Code to see if the issue was the notebook, but it says installed but when I run the program it still says no module. "
   ]
  }
 ],
 "metadata": {
  "kernelspec": {
   "display_name": "Python 3 (ipykernel)",
   "language": "python",
   "name": "python3"
  },
  "language_info": {
   "codemirror_mode": {
    "name": "ipython",
    "version": 3
   },
   "file_extension": ".py",
   "mimetype": "text/x-python",
   "name": "python",
   "nbconvert_exporter": "python",
   "pygments_lexer": "ipython3",
   "version": "3.10.9"
  }
 },
 "nbformat": 4,
 "nbformat_minor": 5
}
